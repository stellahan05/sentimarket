{
 "cells": [
  {
   "cell_type": "code",
   "execution_count": 3,
   "metadata": {},
   "outputs": [],
   "source": [
    "import praw\n",
    "import yfinance as yf\n",
    "from vaderSentiment.vaderSentiment import SentimentIntensityAnalyzer\n",
    "import pandas as pd"
   ]
  },
  {
   "cell_type": "code",
   "execution_count": 5,
   "metadata": {},
   "outputs": [],
   "source": [
    "from dotenv import load_dotenv\n",
    "import os\n",
    "\n",
    "load_dotenv()\n",
    "\n",
    "cid = os.getenv('REDDIT_CLIENT_ID')\n",
    "secret = os.getenv('REDDIT_CLIENT_SECRET')\n",
    "agent = os.getenv('REDDIT_USER_AGENT')"
   ]
  },
  {
   "cell_type": "code",
   "execution_count": 6,
   "metadata": {},
   "outputs": [
    {
     "name": "stdout",
     "output_type": "stream",
     "text": [
      "['Rate My Portfolio - r/Stocks Quarterly Thread December 2024', '/r/Stocks Weekend Discussion Saturday - Feb 01, 2025', 'Dow futures drop 600 points after Trump hits Canada, Mexico and China', \"Tarifs aren't the Problem\", 'Canada will retaliate with 25% tariffs on US imports and limit export of rare minerals as response to Trump tariffs! Trade war is on!']\n"
     ]
    }
   ],
   "source": [
    "reddit = praw.Reddit(\n",
    "    client_id=cid,\n",
    "    client_secret=secret,\n",
    "    user_agent=agent\n",
    ")\n",
    "\n",
    "# fetch top 100 posts from r/stocks subreddit\n",
    "subreddit = reddit.subreddit('stocks')\n",
    "posts = subreddit.hot(limit=100)\n",
    "\n",
    "# extract titles of the posts\n",
    "reddit_posts = [post.title for post in posts]\n",
    "\n",
    "# display first 5 posts\n",
    "print(reddit_posts[:5])\n",
    "\n"
   ]
  }
 ],
 "metadata": {
  "kernelspec": {
   "display_name": "venv",
   "language": "python",
   "name": "python3"
  },
  "language_info": {
   "codemirror_mode": {
    "name": "ipython",
    "version": 3
   },
   "file_extension": ".py",
   "mimetype": "text/x-python",
   "name": "python",
   "nbconvert_exporter": "python",
   "pygments_lexer": "ipython3",
   "version": "3.12.8"
  }
 },
 "nbformat": 4,
 "nbformat_minor": 2
}
