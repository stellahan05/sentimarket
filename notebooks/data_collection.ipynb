{
 "cells": [
  {
   "cell_type": "code",
   "execution_count": 34,
   "metadata": {},
   "outputs": [],
   "source": [
    "import praw\n",
    "import yfinance as yf\n",
    "from vaderSentiment.vaderSentiment import SentimentIntensityAnalyzer\n",
    "from textblob import TextBlob\n",
    "import pandas as pd"
   ]
  },
  {
   "cell_type": "code",
   "execution_count": 35,
   "metadata": {},
   "outputs": [],
   "source": [
    "from dotenv import load_dotenv\n",
    "import os\n",
    "\n",
    "load_dotenv()\n",
    "\n",
    "cid = os.getenv('REDDIT_CLIENT_ID')\n",
    "secret = os.getenv('REDDIT_CLIENT_SECRET')\n",
    "agent = os.getenv('REDDIT_USER_AGENT')"
   ]
  },
  {
   "cell_type": "code",
   "execution_count": 36,
   "metadata": {},
   "outputs": [
    {
     "name": "stdout",
     "output_type": "stream",
     "text": [
      "['Referrals, posting or commenting.', 'Canada Announces 25% Tariffs on U.S. Goods, including Tesla and Other EVs', 'Inside Modern Tesla Super Charger', 'Full Self-Driving (Supervised) Discount - Tesla Insurance', 'Tesla Increases Model 3 Referral Discount to $2,500 in the U.S.']\n"
     ]
    }
   ],
   "source": [
    "reddit = praw.Reddit(\n",
    "    client_id=cid,\n",
    "    client_secret=secret,\n",
    "    user_agent=agent\n",
    ")\n",
    "\n",
    "# fetch top 100 posts from r/stocks subreddit\n",
    "subreddit = reddit.subreddit('teslamotors')\n",
    "posts = subreddit.hot(limit=100)\n",
    "\n",
    "# extract titles of the posts\n",
    "reddit_posts = [post.title for post in posts]\n",
    "\n",
    "# display first 5 posts\n",
    "print(reddit_posts[:5])\n",
    "\n"
   ]
  },
  {
   "cell_type": "code",
   "execution_count": 38,
   "metadata": {},
   "outputs": [
    {
     "ename": "TypeError",
     "evalue": "The `text` argument passed to `__init__(text)` must be a string, not <class 'builtin_function_or_method'>",
     "output_type": "error",
     "traceback": [
      "\u001b[0;31m---------------------------------------------------------------------------\u001b[0m",
      "\u001b[0;31mTypeError\u001b[0m                                 Traceback (most recent call last)",
      "Cell \u001b[0;32mIn[38], line 9\u001b[0m\n\u001b[1;32m      7\u001b[0m \u001b[38;5;66;03m# Analyze sentiment of each post\u001b[39;00m\n\u001b[1;32m      8\u001b[0m \u001b[38;5;28;01mfor\u001b[39;00m post \u001b[38;5;129;01min\u001b[39;00m reddit_posts:\n\u001b[0;32m----> 9\u001b[0m     blob \u001b[38;5;241m=\u001b[39m \u001b[43mTextBlob\u001b[49m\u001b[43m(\u001b[49m\u001b[43mpost\u001b[49m\u001b[38;5;241;43m.\u001b[39;49m\u001b[43mtitle\u001b[49m\u001b[43m)\u001b[49m\n\u001b[1;32m     10\u001b[0m     sentiment \u001b[38;5;241m=\u001b[39m blob\u001b[38;5;241m.\u001b[39msentiment\u001b[38;5;241m.\u001b[39mpolarity  \u001b[38;5;66;03m# Positive or negative sentiment score\u001b[39;00m\n\u001b[1;32m     11\u001b[0m     sentiment_scores\u001b[38;5;241m.\u001b[39mappend(sentiment)\n",
      "File \u001b[0;32m~/sentimarket/venv/lib/python3.12/site-packages/textblob/blob.py:371\u001b[0m, in \u001b[0;36mBaseBlob.__init__\u001b[0;34m(self, text, tokenizer, pos_tagger, np_extractor, analyzer, parser, classifier, clean_html)\u001b[0m\n\u001b[1;32m    359\u001b[0m \u001b[38;5;28;01mdef\u001b[39;00m\u001b[38;5;250m \u001b[39m\u001b[38;5;21m__init__\u001b[39m(\n\u001b[1;32m    360\u001b[0m     \u001b[38;5;28mself\u001b[39m,\n\u001b[1;32m    361\u001b[0m     text,\n\u001b[0;32m   (...)\u001b[0m\n\u001b[1;32m    368\u001b[0m     clean_html\u001b[38;5;241m=\u001b[39m\u001b[38;5;28;01mFalse\u001b[39;00m,\n\u001b[1;32m    369\u001b[0m ):\n\u001b[1;32m    370\u001b[0m     \u001b[38;5;28;01mif\u001b[39;00m \u001b[38;5;129;01mnot\u001b[39;00m \u001b[38;5;28misinstance\u001b[39m(text, basestring):\n\u001b[0;32m--> 371\u001b[0m         \u001b[38;5;28;01mraise\u001b[39;00m \u001b[38;5;167;01mTypeError\u001b[39;00m(\n\u001b[1;32m    372\u001b[0m             \u001b[38;5;124m\"\u001b[39m\u001b[38;5;124mThe `text` argument passed to `__init__(text)` \u001b[39m\u001b[38;5;124m\"\u001b[39m\n\u001b[1;32m    373\u001b[0m             \u001b[38;5;124mf\u001b[39m\u001b[38;5;124m\"\u001b[39m\u001b[38;5;124mmust be a string, not \u001b[39m\u001b[38;5;132;01m{\u001b[39;00m\u001b[38;5;28mtype\u001b[39m(text)\u001b[38;5;132;01m}\u001b[39;00m\u001b[38;5;124m\"\u001b[39m\n\u001b[1;32m    374\u001b[0m         )\n\u001b[1;32m    375\u001b[0m     \u001b[38;5;28;01mif\u001b[39;00m clean_html:\n\u001b[1;32m    376\u001b[0m         \u001b[38;5;28;01mraise\u001b[39;00m \u001b[38;5;167;01mNotImplementedError\u001b[39;00m(\n\u001b[1;32m    377\u001b[0m             \u001b[38;5;124m\"\u001b[39m\u001b[38;5;124mclean_html has been deprecated. \u001b[39m\u001b[38;5;124m\"\u001b[39m\n\u001b[1;32m    378\u001b[0m             \u001b[38;5;124m\"\u001b[39m\u001b[38;5;124mTo remove HTML markup, use BeautifulSoup\u001b[39m\u001b[38;5;124m'\u001b[39m\u001b[38;5;124ms \u001b[39m\u001b[38;5;124m\"\u001b[39m\n\u001b[1;32m    379\u001b[0m             \u001b[38;5;124m\"\u001b[39m\u001b[38;5;124mget_text() function\u001b[39m\u001b[38;5;124m\"\u001b[39m\n\u001b[1;32m    380\u001b[0m         )\n",
      "\u001b[0;31mTypeError\u001b[0m: The `text` argument passed to `__init__(text)` must be a string, not <class 'builtin_function_or_method'>"
     ]
    }
   ],
   "source": [
    "# initialize the VADER sentiment analyzer\n",
    "analyzer = SentimentIntensityAnalyzer()\n",
    "\n",
    "# list of sentiment scores\n",
    "sentiment_scores = []\n",
    "\n",
    "# Analyze sentiment of each post\n",
    "for post in reddit_posts:\n",
    "    blob = TextBlob(post.title)\n",
    "    sentiment = blob.sentiment.polarity  # Positive or negative sentiment score\n",
    "    sentiment_scores.append(sentiment)\n",
    "\n",
    "# Display first 5 sentiment scores\n",
    "print(sentiment_scores[:5])\n"
   ]
  },
  {
   "cell_type": "code",
   "execution_count": 29,
   "metadata": {},
   "outputs": [
    {
     "name": "stdout",
     "output_type": "stream",
     "text": [
      "                                 Open        High         Low       Close  \\\n",
      "Date                                                                        \n",
      "2024-12-17 00:00:00-05:00  475.899994  483.989990  457.510010  479.859985   \n",
      "2024-12-18 00:00:00-05:00  466.500000  488.540009  427.010010  440.130005   \n",
      "2024-12-19 00:00:00-05:00  451.880005  456.359985  420.019989  436.170013   \n",
      "2024-12-20 00:00:00-05:00  425.510010  447.079987  417.640015  421.059998   \n",
      "2024-12-23 00:00:00-05:00  431.000000  434.510010  415.410004  430.600006   \n",
      "\n",
      "                              Volume  Dividends  Stock Splits  \n",
      "Date                                                           \n",
      "2024-12-17 00:00:00-05:00  131223000        0.0           0.0  \n",
      "2024-12-18 00:00:00-05:00  149340800        0.0           0.0  \n",
      "2024-12-19 00:00:00-05:00  118566100        0.0           0.0  \n",
      "2024-12-20 00:00:00-05:00  132216200        0.0           0.0  \n",
      "2024-12-23 00:00:00-05:00   72698100        0.0           0.0  \n"
     ]
    }
   ],
   "source": [
    "# fetch Tesla stock data\n",
    "tsla = yf.Ticker(\"TSLA\")\n",
    "stock_data = tsla.history(period=\"30d\") \n",
    "\n",
    "# Display the stock data\n",
    "print(stock_data.head())"
   ]
  },
  {
   "cell_type": "code",
   "execution_count": 32,
   "metadata": {},
   "outputs": [
    {
     "ename": "NameError",
     "evalue": "name 'sentiment_scores' is not defined",
     "output_type": "error",
     "traceback": [
      "\u001b[0;31m---------------------------------------------------------------------------\u001b[0m",
      "\u001b[0;31mNameError\u001b[0m                                 Traceback (most recent call last)",
      "Cell \u001b[0;32mIn[32], line 4\u001b[0m\n\u001b[1;32m      1\u001b[0m \u001b[38;5;66;03m# Create a DataFrame for sentiment scores (make sure time aligns with stock data)\u001b[39;00m\n\u001b[1;32m      2\u001b[0m sentiment_df \u001b[38;5;241m=\u001b[39m pd\u001b[38;5;241m.\u001b[39mDataFrame({\n\u001b[1;32m      3\u001b[0m     \u001b[38;5;124m'\u001b[39m\u001b[38;5;124mtime\u001b[39m\u001b[38;5;124m'\u001b[39m: stock_data\u001b[38;5;241m.\u001b[39mindex,  \u001b[38;5;66;03m# Align sentiment with stock date\u001b[39;00m\n\u001b[0;32m----> 4\u001b[0m     \u001b[38;5;124m'\u001b[39m\u001b[38;5;124msentiment\u001b[39m\u001b[38;5;124m'\u001b[39m: \u001b[43msentiment_scores\u001b[49m  \u001b[38;5;66;03m# Sentiment scores\u001b[39;00m\n\u001b[1;32m      5\u001b[0m })\n\u001b[1;32m      7\u001b[0m \u001b[38;5;66;03m# Merge sentiment with stock data\u001b[39;00m\n\u001b[1;32m      8\u001b[0m merged_df \u001b[38;5;241m=\u001b[39m pd\u001b[38;5;241m.\u001b[39mmerge(stock_data, sentiment_df, left_index\u001b[38;5;241m=\u001b[39m\u001b[38;5;28;01mTrue\u001b[39;00m, right_on\u001b[38;5;241m=\u001b[39m\u001b[38;5;124m\"\u001b[39m\u001b[38;5;124mtime\u001b[39m\u001b[38;5;124m\"\u001b[39m, how\u001b[38;5;241m=\u001b[39m\u001b[38;5;124m\"\u001b[39m\u001b[38;5;124minner\u001b[39m\u001b[38;5;124m\"\u001b[39m)\n",
      "\u001b[0;31mNameError\u001b[0m: name 'sentiment_scores' is not defined"
     ]
    }
   ],
   "source": [
    "# Create a DataFrame for sentiment scores (make sure time aligns with stock data)\n",
    "sentiment_df = pd.DataFrame({\n",
    "    'time': stock_data.index,  # Align sentiment with stock date\n",
    "    'sentiment': sentiment_scores  # Sentiment scores\n",
    "})\n",
    "\n",
    "# Merge sentiment with stock data\n",
    "merged_df = pd.merge(stock_data, sentiment_df, left_index=True, right_on=\"time\", how=\"inner\")\n",
    "print(merged_df.head())"
   ]
  },
  {
   "cell_type": "code",
   "execution_count": 28,
   "metadata": {},
   "outputs": [
    {
     "name": "stdout",
     "output_type": "stream",
     "text": [
      "2025-01-23 00:00:00 2025-01-27 03:00:00\n",
      "2025-01-23 09:30:00 2025-01-31 15:30:00\n"
     ]
    },
    {
     "name": "stderr",
     "output_type": "stream",
     "text": [
      "/var/folders/xh/dn9y661s7w9615dcy5bxlt600000gn/T/ipykernel_66969/10592207.py:27: UserWarning: No artists with labels found to put in legend.  Note that artists whose label start with an underscore are ignored when legend() is called with no argument.\n",
      "  plt.legend()\n"
     ]
    },
    {
     "data": {
      "image/png": "[encoded data removed]",
      "text/plain": [
       "<Figure size 1000x500 with 1 Axes>"
      ]
     },
     "metadata": {},
     "output_type": "display_data"
    },
    {
     "name": "stdout",
     "output_type": "stream",
     "text": [
      "Empty DataFrame\n",
      "Columns: [time, sentiment, Open, High, Low, Close, Volume, Dividends, Stock Splits]\n",
      "Index: []\n",
      "sentiment    0\n",
      "Close        0\n",
      "dtype: int64\n"
     ]
    }
   ],
   "source": [
    "import matplotlib.pyplot as plt\n",
    "import seaborn as sns\n",
    "\n",
    "# Convert stock data time column to UTC (if it's not already)\n",
    "stock_data['time'] = stock_data.index.tz_localize(None)\n",
    "sentiment_df['time'] = sentiment_df['time'].dt.tz_localize(None)\n",
    "\n",
    "\n",
    "print(sentiment_df['time'].min(), sentiment_df['time'].max())  # Print time range for sentiment data\n",
    "print(stock_data['time'].min(), stock_data['time'].max())  # Print time range for stock data\n",
    "\n",
    "\n",
    "# Convert sentiment scores to a DataFrame for easy plotting\n",
    "sentiment_df = pd.DataFrame({\"time\": pd.date_range(start=\"2025-01-23\", periods=len(reddit_sentiments), freq=\"h\"),\n",
    "                             \"sentiment\": reddit_sentiments})\n",
    "\n",
    "# Merge sentiment data with stock data (assuming stock_data is available)\n",
    "merged_df = sentiment_df.merge(stock_data, on=\"time\", how=\"inner\")\n",
    "\n",
    "# Plot sentiment vs. stock price\n",
    "plt.figure(figsize=(10,5))\n",
    "sns.lineplot(x=merged_df[\"time\"], y=merged_df[\"sentiment\"], label=\"Sentiment Score\", color=\"blue\")\n",
    "sns.lineplot(x=merged_df[\"time\"], y=merged_df[\"Close\"], label=\"Stock Price\", color=\"red\")\n",
    "plt.xlabel(\"Time\")\n",
    "plt.ylabel(\"Value\")\n",
    "plt.title(\"Sentiment vs. Stock Price\")\n",
    "plt.legend()\n",
    "plt.show()\n",
    "\n",
    "# Check if merged_df has data\n",
    "print(merged_df.head())\n",
    "\n",
    "# Check if sentiment and Close columns are not empty\n",
    "print(merged_df[['sentiment', 'Close']].isnull().sum())"
   ]
  }
 ],
 "metadata": {
  "kernelspec": {
   "display_name": "venv",
   "language": "python",
   "name": "python3"
  },
  "language_info": {
   "codemirror_mode": {
    "name": "ipython",
    "version": 3
   },
   "file_extension": ".py",
   "mimetype": "text/x-python",
   "name": "python",
   "nbconvert_exporter": "python",
   "pygments_lexer": "ipython3",
   "version": "3.12.8"
  }
 },
 "nbformat": 4,
 "nbformat_minor": 2
}
